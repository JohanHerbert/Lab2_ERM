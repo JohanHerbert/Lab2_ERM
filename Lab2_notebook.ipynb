{
 "cells": [
  {
   "cell_type": "code",
   "execution_count": 8,
   "metadata": {},
   "outputs": [],
   "source": [
    "import numpy as np\n",
    "import matplotlib.pyplot as plt\n",
    "import pandas as pd\n",
    "import yfinance as yf\n",
    "import importlib\n",
    "import dataReading \n",
    "import sympy as sp \n",
    "from scipy.optimize import minimize\n",
    "from functools import partial\n",
    "from scipy.stats import norm, t\n",
    "from statsmodels.graphics.gofplots import qqplot\n",
    "from statsmodels import distributions\n",
    "import statsmodels.api as sm"
   ]
  },
  {
   "cell_type": "code",
   "execution_count": 9,
   "metadata": {},
   "outputs": [],
   "source": [
    "# How to load all functions from a file into the notebook\n",
    "importlib.reload(dataReading) # Needed so that you dont need to reload kernel when changing function\n",
    "from dataReading import *"
   ]
  },
  {
   "cell_type": "markdown",
   "metadata": {},
   "source": [
    "## 1. Explore the weekly data set (market_data.csv) \n",
    "- a) Plot the evolution of the stocks and the interest rates over the period 1996-01-01 -> 2023-12-31, in \n",
    "two separate plots (with legends). Normalize all the stock prices so that they have an initial price of 100 \n",
    "enabling a fair comparison of their performances. Do not normalize the rates. \n",
    "- b) Determine for each stock (and present in a table):  \n",
    "• the annualized mean log-return,   \n",
    "• the annualized volatility of log-returns,  \n",
    "• the 5th and the 95th log-return percentiles, and \n",
    "• the minimum and maximum log-return.  \n",
    "- c) Determine the correlation matrix for the log-returns of all stocks and interest rates and plot as a \n",
    "heatmap, together with the values formatted as percent. "
   ]
  },
  {
   "cell_type": "code",
   "execution_count": 18,
   "metadata": {},
   "outputs": [
    {
     "ename": "TypeError",
     "evalue": "bad operand type for unary -: 'str'",
     "output_type": "error",
     "traceback": [
      "\u001b[1;31m---------------------------------------------------------------------------\u001b[0m",
      "\u001b[1;31mTypeError\u001b[0m                                 Traceback (most recent call last)",
      "Cell \u001b[1;32mIn[18], line 4\u001b[0m\n\u001b[0;32m      2\u001b[0m normalizedDf \u001b[38;5;241m=\u001b[39m marketDataDf\u001b[38;5;241m.\u001b[39mcopy()\n\u001b[0;32m      3\u001b[0m value \u001b[38;5;241m=\u001b[39m marketDataDf\u001b[38;5;241m.\u001b[39miloc[\u001b[38;5;241m0\u001b[39m]\n\u001b[1;32m----> 4\u001b[0m normalizedDf \u001b[38;5;241m=\u001b[39m (\u001b[38;5;241m100\u001b[39m\u001b[38;5;241m-\u001b[39mvalue[\u001b[38;5;241m1\u001b[39m:\u001b[38;5;241m16\u001b[39m]) \u001b[38;5;241m+\u001b[39m marketDataDf[\u001b[38;5;241;43m-\u001b[39;49m\u001b[38;5;124;43m'\u001b[39;49m\u001b[38;5;124;43mDate\u001b[39;49m\u001b[38;5;124;43m'\u001b[39;49m]\n",
      "\u001b[1;31mTypeError\u001b[0m: bad operand type for unary -: 'str'"
     ]
    }
   ],
   "source": [
    "marketDataDf = pd.read_csv('market_data.csv', sep = ';')\n",
    "normalizedDf = marketDataDf.copy()\n",
    "value = marketDataDf.iloc[0]\n",
    "normalizedDf = (100-value[1:16]) + marketDataDf[-'Date']"
   ]
  },
  {
   "cell_type": "markdown",
   "metadata": {},
   "source": [
    "## 2. VAR(1)-model \n",
    "Estimate a VAR(1)-model for the market. \n",
    "- a) Estimate the parameters (include them in the report) and check whether the model is stable or not \n",
    "(this check should also be detailed in the report). \n",
    "- b) Calculate the volatilities of the VAR-residuals and include them in the report. \n",
    "- c) Simulate 5000 scenarios with 480 weekly time steps for all assets and plot the price (or interest rate) \n",
    "percentiles (5%, 10%, 25%, 50%, 75%, 90%, 95%) for the stocks Caterpillar and Walmart and the 5- and \n",
    "30-year interest rates. A total of four plots. Also list these percentiles, for the time periods 240 and \n",
    "480, in two tables with the percentiles in the horizontal direction and the stocks and interest rates in \n",
    "the vertical direction."
   ]
  },
  {
   "cell_type": "code",
   "execution_count": null,
   "metadata": {},
   "outputs": [],
   "source": []
  },
  {
   "cell_type": "markdown",
   "metadata": {},
   "source": [
    "## 3. Historical simulation \n",
    "Use basic historical simulation to simulate 5000 scenarios with 480 weekly time steps for all assets and plot \n",
    "the price (or interest rate) percentiles (5%, 10%, 25%, 50%, 75%, 90%, 95%) for the stocks Caterpillar and \n",
    "Walmart and the 5- and 30-year interest rates. A total of four plots. Also list these percentiles, for the time \n",
    "periods 240 and 480, in two tables with the percentiles in the horizontal direction and the stocks and interest \n",
    "rates in the vertical direction. Plot the percentiles (as dotted lines) in the same plot as the VAR(1)-percentiles. "
   ]
  },
  {
   "cell_type": "code",
   "execution_count": null,
   "metadata": {},
   "outputs": [],
   "source": []
  },
  {
   "cell_type": "markdown",
   "metadata": {},
   "source": [
    "## 4. VAR(1)-DCC-model \n",
    "Estimate a VAR(1)-DCC-model for the market \n",
    "- a) Plot the ACF, for lags 1 to 50, for the (weekly) residuals and square residuals of the VAR-model, for \n",
    "Caterpillar and the 5-year interest rate.  \n",
    "- b) Estimate the DCC-model and include the DCC-parameters in the report: delta, gamma, the R-matrix \n",
    "and the GARCH(1,1)-parameters as a 15*3-matrix. \n",
    "- c) Do 2.c) again and plot the price (or interest rate) percentiles (as dashed lines) in the same plot as the \n",
    "VAR(1)- and HS-percentiles \n",
    "\n",
    "\n",
    "Discussion: What does a) tell you?  "
   ]
  },
  {
   "cell_type": "code",
   "execution_count": null,
   "metadata": {},
   "outputs": [],
   "source": []
  },
  {
   "cell_type": "markdown",
   "metadata": {},
   "source": [
    "## 5. Explore the data \n",
    "You can do this part of the assignment in Excel (in that case submit also the Excel file).  \n",
    "- a) Plot the average, over the five years of data, of the mean population for each age for both men and \n",
    "women in the same figure. \n",
    "- b) Plot the average, over the five years of data, of the number of deaths for each age for both men and \n",
    "women in the same figure.   \n",
    "\n",
    "\n",
    "Discussion: What do these plots tell you? "
   ]
  },
  {
   "cell_type": "code",
   "execution_count": null,
   "metadata": {},
   "outputs": [],
   "source": []
  },
  {
   "cell_type": "markdown",
   "metadata": {},
   "source": [
    "## 6. Mortality estimation \n",
    "This task is also suitable for Excel, where you can use Solver to find the Makeham parameters. \n",
    "- a) Estimate the force of mortality for men and women separately using the SCB-data and plot these \n",
    "estimates in the same figure. Do this for ages 20 – 99 and use data for all five years for a more stable \n",
    "estimate. \n",
    "- b) Fit Makeham functions using only force of mortality estimates for ages 20 – 90 from above. Then plot \n",
    "the estimated forces of mortality, for ages 20 – 99, together with the Makeham functions in the same \n",
    "figure (both men and women). Include the parameters in the report. \n",
    "- c) Plot the survival functions for men and women, for ages 0 – 105, in the same figure (but not the same \n",
    "as in b).  \n",
    "- d) Calculate life expectancy for both men and women, according to the lifetime distributions given by the \n",
    "Makeham functions. "
   ]
  },
  {
   "cell_type": "code",
   "execution_count": null,
   "metadata": {},
   "outputs": [],
   "source": []
  },
  {
   "cell_type": "markdown",
   "metadata": {},
   "source": [
    "## 7. 1st order payout and reserve \n",
    "Calculate the guaranteed payout amount and project the 1st order reserve for the policy.  \n",
    "- a) Determine the yearly payout amount, b.  \n",
    "- b) Plot the evolution of the reserve 30 years into the future.  \n",
    "- c) Include a table with the value of the reserve for every 5 years.  "
   ]
  },
  {
   "cell_type": "code",
   "execution_count": null,
   "metadata": {},
   "outputs": [],
   "source": []
  }
 ],
 "metadata": {
  "kernelspec": {
   "display_name": ".venv",
   "language": "python",
   "name": "python3"
  },
  "language_info": {
   "codemirror_mode": {
    "name": "ipython",
    "version": 3
   },
   "file_extension": ".py",
   "mimetype": "text/x-python",
   "name": "python",
   "nbconvert_exporter": "python",
   "pygments_lexer": "ipython3",
   "version": "3.12.5"
  }
 },
 "nbformat": 4,
 "nbformat_minor": 2
}
